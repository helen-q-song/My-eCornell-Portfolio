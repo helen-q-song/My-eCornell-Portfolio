{
 "cells": [
  {
   "cell_type": "markdown",
   "metadata": {},
   "source": [
    "# Lab 8: Define and Solve an ML Problem of Your Choosing"
   ]
  },
  {
   "cell_type": "code",
   "execution_count": 11,
   "metadata": {},
   "outputs": [],
   "source": [
    "import pandas as pd\n",
    "import numpy as np\n",
    "import os \n",
    "import matplotlib.pyplot as plt\n",
    "import seaborn as sns\n",
    "from scipy import stats\n",
    "\n",
    "\n",
    "from sklearn.model_selection import train_test_split \n",
    "from sklearn.preprocessing import OneHotEncoder \n",
    "from sklearn.tree import DecisionTreeClassifier\n",
    "from sklearn.neighbors import KNeighborsClassifier\n",
    "from sklearn.metrics import accuracy_score\n",
    "from sklearn.model_selection import GridSearchCV\n"
   ]
  },
  {
   "cell_type": "markdown",
   "metadata": {},
   "source": [
    "In this lab assignment, you will follow the machine learning life cycle and implement a model to solve a machine learning problem of your choosing. You will select a data set and choose a predictive problem that the data set supports.  You will then inspect the data with your problem in mind and begin to formulate a  project plan. You will then implement the machine learning project plan. \n",
    "\n",
    "You will complete the following tasks:\n",
    "\n",
    "1. Build Your DataFrame\n",
    "2. Define Your ML Problem\n",
    "3. Perform exploratory data analysis to understand your data.\n",
    "4. Define Your Project Plan\n",
    "5. Implement Your Project Plan:\n",
    "    * Prepare your data for your model.\n",
    "    * Fit your model to the training data and evaluate your model.\n",
    "    * Improve your model's performance."
   ]
  },
  {
   "cell_type": "markdown",
   "metadata": {},
   "source": [
    "## Part 1: Build Your DataFrame\n",
    "\n",
    "You will have the option to choose one of four data sets that you have worked with in this program:\n",
    "\n",
    "* The \"census\" data set that contains Census information from 1994: `censusData.csv`\n",
    "* Airbnb NYC \"listings\" data set: `airbnbListingsData.csv`\n",
    "* World Happiness Report (WHR) data set: `WHR2018Chapter2OnlineData.csv`\n",
    "* Book Review data set: `bookReviewsData.csv`\n",
    "\n",
    "Note that these are variations of the data sets that you have worked with in this program. For example, some do not include some of the preprocessing necessary for specific models. \n",
    "\n",
    "#### Load a Data Set and Save it as a Pandas DataFrame\n",
    "\n",
    "The code cell below contains filenames (path + filename) for each of the four data sets available to you.\n",
    "\n",
    "<b>Task:</b> In the code cell below, use the same method you have been using to load the data using `pd.read_csv()` and save it to DataFrame `df`. \n",
    "\n",
    "You can load each file as a new DataFrame to inspect the data before choosing your data set."
   ]
  },
  {
   "cell_type": "code",
   "execution_count": 12,
   "metadata": {},
   "outputs": [
    {
     "data": {
      "text/plain": [
       "(32561, 15)"
      ]
     },
     "execution_count": 12,
     "metadata": {},
     "output_type": "execute_result"
    }
   ],
   "source": [
    "# File names of the four data sets\n",
    "adultDataSet_filename = os.path.join(os.getcwd(), \"data\", \"censusData.csv\")\n",
    "airbnbDataSet_filename = os.path.join(os.getcwd(), \"data\", \"airbnbListingsData.csv\")\n",
    "WHRDataSet_filename = os.path.join(os.getcwd(), \"data\", \"WHR2018Chapter2OnlineData.csv\")\n",
    "bookReviewDataSet_filename = os.path.join(os.getcwd(), \"data\", \"bookReviewsData.csv\")\n",
    "\n",
    "\n",
    "df = pd.read_csv(adultDataSet_filename)\n",
    "\n",
    "df.head()\n",
    "list(df.columns)\n",
    "df.shape"
   ]
  },
  {
   "cell_type": "markdown",
   "metadata": {},
   "source": [
    "## Part 2: Define Your ML Problem\n",
    "\n",
    "Next you will formulate your ML Problem. In the markdown cell below, answer the following questions:\n",
    "\n",
    "1. List the data set you have chosen.\n",
    "2. What will you be predicting? What is the label?\n",
    "3. Is this a supervised or unsupervised learning problem? Is this a clustering, classification or regression problem? Is it a binary classificaiton or multi-class classifiction problem?\n",
    "4. What are your features? (note: this list may change after your explore your data)\n",
    "5. Explain why this is an important problem. In other words, how would a company create value with a model that predicts this label?"
   ]
  },
  {
   "cell_type": "markdown",
   "metadata": {},
   "source": [
    "1. The data set that will be used is the Adult Census Data\n",
    "2. The label that will be predicted is whether the adult makes above or below 50k\n",
    "3. This is a supervised, binary classification problem. \n",
    "4. The features include all columns which aren't the label column\n",
    "5. This would be a more basic model that only predicts income on a binary scale (more or less than a threshold), but with higher complexity that includes more income categories, a similar approach could be used to market towards people from different income ranges based on the known demographic or behavioral information. "
   ]
  },
  {
   "cell_type": "markdown",
   "metadata": {},
   "source": [
    "## Part 3: Understand Your Data\n",
    "\n",
    "The next step is to perform exploratory data analysis. Inspect and analyze your data set with your machine learning problem in mind. Consider the following as you inspect your data:\n",
    "\n",
    "1. What data preparation techniques would you like to use? These data preparation techniques may include:\n",
    "\n",
    "    * addressing missingness, such as replacing missing values with means\n",
    "    * finding and replacing outliers\n",
    "    * renaming features and labels\n",
    "    * finding and replacing outliers\n",
    "    * performing feature engineering techniques such as one-hot encoding on categorical features\n",
    "    * selecting appropriate features and removing irrelevant features\n",
    "    * performing specific data cleaning and preprocessing techniques for an NLP problem\n",
    "    * addressing class imbalance in your data sample to promote fair AI\n",
    "    \n",
    "\n",
    "2. What machine learning model (or models) you would like to use that is suitable for your predictive problem and data?\n",
    "    * Are there other data preparation techniques that you will need to apply to build a balanced modeling data set for your problem and model? For example, will you need to scale your data?\n",
    " \n",
    " \n",
    "3. How will you evaluate and improve the model's performance?\n",
    "    * Are there specific evaluation metrics and methods that are appropriate for your model?\n",
    "    \n",
    "\n",
    "Think of the different techniques you have used to inspect and analyze your data in this course. These include using Pandas to apply data filters, using the Pandas `describe()` method to get insight into key statistics for each column, using the Pandas `dtypes` property to inspect the data type of each column, and using Matplotlib and Seaborn to detect outliers and visualize relationships between features and labels. If you are working on a classification problem, use techniques you have learned to determine if there is class imbalance.\n",
    "\n",
    "<b>Task</b>: Use the techniques you have learned in this course to inspect and analyze your data. You can import additional packages that you have used in this course that you will need to perform this task.\n",
    "\n",
    "<b>Note</b>: You can add code cells if needed by going to the <b>Insert</b> menu and clicking on <b>Insert Cell Below</b> in the drop-drown menu."
   ]
  },
  {
   "cell_type": "code",
   "execution_count": 13,
   "metadata": {},
   "outputs": [
    {
     "data": {
      "text/html": [
       "<div>\n",
       "<style scoped>\n",
       "    .dataframe tbody tr th:only-of-type {\n",
       "        vertical-align: middle;\n",
       "    }\n",
       "\n",
       "    .dataframe tbody tr th {\n",
       "        vertical-align: top;\n",
       "    }\n",
       "\n",
       "    .dataframe thead th {\n",
       "        text-align: right;\n",
       "    }\n",
       "</style>\n",
       "<table border=\"1\" class=\"dataframe\">\n",
       "  <thead>\n",
       "    <tr style=\"text-align: right;\">\n",
       "      <th></th>\n",
       "      <th>age</th>\n",
       "      <th>education-num</th>\n",
       "      <th>hours-per-week</th>\n",
       "    </tr>\n",
       "  </thead>\n",
       "  <tbody>\n",
       "    <tr>\n",
       "      <th>count</th>\n",
       "      <td>32399.000000</td>\n",
       "      <td>32561.000000</td>\n",
       "      <td>32236.000000</td>\n",
       "    </tr>\n",
       "    <tr>\n",
       "      <th>mean</th>\n",
       "      <td>38.589216</td>\n",
       "      <td>10.080679</td>\n",
       "      <td>40.450428</td>\n",
       "    </tr>\n",
       "    <tr>\n",
       "      <th>std</th>\n",
       "      <td>13.647862</td>\n",
       "      <td>2.572720</td>\n",
       "      <td>12.353748</td>\n",
       "    </tr>\n",
       "    <tr>\n",
       "      <th>min</th>\n",
       "      <td>17.000000</td>\n",
       "      <td>1.000000</td>\n",
       "      <td>1.000000</td>\n",
       "    </tr>\n",
       "    <tr>\n",
       "      <th>25%</th>\n",
       "      <td>28.000000</td>\n",
       "      <td>9.000000</td>\n",
       "      <td>40.000000</td>\n",
       "    </tr>\n",
       "    <tr>\n",
       "      <th>50%</th>\n",
       "      <td>37.000000</td>\n",
       "      <td>10.000000</td>\n",
       "      <td>40.000000</td>\n",
       "    </tr>\n",
       "    <tr>\n",
       "      <th>75%</th>\n",
       "      <td>48.000000</td>\n",
       "      <td>12.000000</td>\n",
       "      <td>45.000000</td>\n",
       "    </tr>\n",
       "    <tr>\n",
       "      <th>max</th>\n",
       "      <td>90.000000</td>\n",
       "      <td>16.000000</td>\n",
       "      <td>99.000000</td>\n",
       "    </tr>\n",
       "  </tbody>\n",
       "</table>\n",
       "</div>"
      ],
      "text/plain": [
       "                age  education-num  hours-per-week\n",
       "count  32399.000000   32561.000000    32236.000000\n",
       "mean      38.589216      10.080679       40.450428\n",
       "std       13.647862       2.572720       12.353748\n",
       "min       17.000000       1.000000        1.000000\n",
       "25%       28.000000       9.000000       40.000000\n",
       "50%       37.000000      10.000000       40.000000\n",
       "75%       48.000000      12.000000       45.000000\n",
       "max       90.000000      16.000000       99.000000"
      ]
     },
     "execution_count": 13,
     "metadata": {},
     "output_type": "execute_result"
    }
   ],
   "source": [
    "describe_vars = ['age', 'education-num', 'hours-per-week']\n",
    "df[describe_vars].describe()"
   ]
  },
  {
   "cell_type": "code",
   "execution_count": 14,
   "metadata": {},
   "outputs": [
    {
     "data": {
      "image/png": "[encoded data removed]",
      "text/plain": [
       "<Figure size 1000x600 with 1 Axes>"
      ]
     },
     "metadata": {},
     "output_type": "display_data"
    },
    {
     "data": {
      "image/png": "[encoded data removed]",
      "text/plain": [
       "<Figure size 1000x600 with 1 Axes>"
      ]
     },
     "metadata": {},
     "output_type": "display_data"
    },
    {
     "data": {
      "image/png": "[encoded data removed]",
      "text/plain": [
       "<Figure size 1000x600 with 1 Axes>"
      ]
     },
     "metadata": {},
     "output_type": "display_data"
    }
   ],
   "source": [
    "plt.figure(figsize=(10, 6))\n",
    "sns.boxplot(x=df['age'])\n",
    "plt.xlabel('Value')\n",
    "plt.title('Box plot of age')\n",
    "plt.show()\n",
    "\n",
    "plt.figure(figsize=(10, 6))\n",
    "sns.boxplot(x=df['education-num'])\n",
    "plt.xlabel('Value')\n",
    "plt.title('Box plot of education-num')\n",
    "plt.show()\n",
    "\n",
    "plt.figure(figsize=(10, 6))\n",
    "sns.boxplot(x=df['hours-per-week'])\n",
    "plt.xlabel('Value')\n",
    "plt.title('Box plot of hours-per-week')\n",
    "plt.show()"
   ]
  },
  {
   "cell_type": "code",
   "execution_count": 15,
   "metadata": {},
   "outputs": [
    {
     "data": {
      "text/plain": [
       "(27504, 9)"
      ]
     },
     "execution_count": 15,
     "metadata": {},
     "output_type": "execute_result"
    }
   ],
   "source": [
    "# DROP FEATURES\n",
    "# drop less relevant features\n",
    "df = df.drop(columns=['fnlwgt', 'capital-loss', 'education', 'capital-gain', 'relationship'])\n",
    "\n",
    "# RENAME FEATURES\n",
    "\n",
    "df = df.rename(columns={'sex_selfID': 'sex'}) # rename self sex ID to sex \n",
    "\n",
    "# DEALING WITH MISSING VALUES\n",
    "# view nan counts \n",
    "nan_count = np.sum(df.isnull(), axis=0)\n",
    "#nan_count\n",
    "\n",
    "# dropping 'occupation' column entries which are null as they cannot be replaced due to being categorical\n",
    "df = df.dropna(subset=['occupation'])\n",
    "np.sum(df.isnull(), axis=0)\n",
    "\n",
    "# since majority of data is from US, only use entries from US \n",
    "len(df[df['native-country'] == 'United-States']) # 27504/32561 entries from US\n",
    "df = df[df['native-country'] == 'United-States'] \n",
    "\n",
    "# drop country column\n",
    "df=df.drop(columns='native-country')\n",
    "df.shape\n"
   ]
  },
  {
   "cell_type": "code",
   "execution_count": 16,
   "metadata": {},
   "outputs": [
    {
     "data": {
      "text/plain": [
       "age                  0\n",
       "workclass            0\n",
       "marital-status       0\n",
       "occupation           0\n",
       "race                 0\n",
       "sex                  0\n",
       "hours-per-week       0\n",
       "income_binary        0\n",
       "education-num-win    0\n",
       "dtype: int64"
      ]
     },
     "execution_count": 16,
     "metadata": {},
     "output_type": "execute_result"
    }
   ],
   "source": [
    "# DEAL WITH OUTLIERS, WINSORIZE IF OUTLIERS PRESENT \n",
    "# inspect and see if there's outliers for age\n",
    "z_scores_age = np.abs(stats.zscore(df['age']))\n",
    "outliers_age = df[z_scores_age > 3 ]\n",
    "outliers_age # no outliers for age\n",
    "\n",
    "# inspect and see if there's outliers for education num\n",
    "z_scores_ed = np.abs(stats.zscore(df['education-num']))\n",
    "outliers_ed = df[z_scores_ed > 3]\n",
    "outliers_ed \n",
    "# winsorize education num column with 5% threshold \n",
    "df['education-num-win'] = stats.mstats.winsorize(df['education-num'], limits = [0.05, 0.05])\n",
    "df=df.drop(columns='education-num')\n",
    "\n",
    "# inspect and see if there's outliers for hours per week num\n",
    "z_scores_hrs = np.abs(stats.zscore(df['hours-per-week']))\n",
    "outliers_hrs = df[z_scores_hrs > 3]\n",
    "outliers_hrs # no outliers for hourrs per week \n",
    "\n",
    "\n",
    "#replace age and hours per week missing values with median\n",
    "df['age'] = df['age'].fillna(value=df['age'].mean())\n",
    "df['hours-per-week'] = df['hours-per-week'].fillna(value=df['hours-per-week'].mean())\n",
    "np.sum(df.isnull(), axis=0)"
   ]
  },
  {
   "cell_type": "code",
   "execution_count": 17,
   "metadata": {},
   "outputs": [],
   "source": [
    "# # Second method to calculate Outliers, yields slightly less accurate results than z score outlier calculation \n",
    "\n",
    "# def iqr_bounds(column):\n",
    "#     Q1 = column.quantile(0.25)\n",
    "#     Q3 = column.quantile(0.75)\n",
    "#     IQR = Q3 - Q1\n",
    "#     lower_bound = Q1 - 1.5 * IQR\n",
    "#     upper_bound = Q3 + 1.5 * IQR\n",
    "#     return lower_bound, upper_bound\n",
    "\n",
    "# # Age column\n",
    "# age_lower_bound, age_upper_bound = iqr_bounds(df['age'])\n",
    "# outliers_age = df[(df['age'] < age_lower_bound) | (df['age'] > age_upper_bound)]\n",
    "# print(len(outliers_age))  # No outliers for age\n",
    "\n",
    "# df['age'] = stats.mstats.winsorize(df['age'], limits = [0.05, 0.05])\n",
    "# df['age-win'] = df['age'].astype(float)\n",
    "\n",
    "# df=df.drop(columns='age')\n",
    "\n",
    "\n",
    "# # Education-num column\n",
    "# ed_lower_bound, ed_upper_bound = iqr_bounds(df['education-num'])\n",
    "# outliers_ed = df[(df['education-num'] < ed_lower_bound) | (df['education-num'] > ed_upper_bound)]\n",
    "# print(len(outliers_ed))  # Print outliers\n",
    "\n",
    "# # Winsorize education-num column with IQR bounds\n",
    "\n",
    "# df['education-num'] = stats.mstats.winsorize(df['education-num'], limits = [0.05, 0.05])\n",
    "# df['education-num-win'] = df['education-num'].astype(float)\n",
    "# df=df.drop(columns='education-num')\n",
    "\n",
    "# # Hours-per-week column\n",
    "# hrs_lower_bound, hrs_upper_bound = iqr_bounds(df['hours-per-week'])\n",
    "# outliers_hrs = df[(df['hours-per-week'] < hrs_lower_bound) | (df['hours-per-week'] > hrs_upper_bound)]\n",
    "# print(len(outliers_hrs))  # No outliers for hours per week\n",
    "\n",
    "# df['hours-per-week'] = stats.mstats.winsorize(df['hours-per-week'], limits = [0.05, 0.05])\n",
    "# df['hours-per-week-win'] = df['hours-per-week'].astype(float)\n",
    "\n",
    "# df=df.drop(columns='hours-per-week')\n"
   ]
  },
  {
   "cell_type": "code",
   "execution_count": 18,
   "metadata": {},
   "outputs": [],
   "source": [
    "# ONE HOT ENCODE CATEGORICAL VARIABLES\n",
    "df_workclass = pd.get_dummies(df['workclass'], prefix = 'workclass')\n",
    "df_marital_status = pd.get_dummies(df['marital-status'], prefix = 'marital-status')\n",
    "df_occupation = pd.get_dummies(df['occupation'], prefix = 'occupation')\n",
    "df_race = pd.get_dummies(df['race'], prefix = 'race')\n",
    "df_sex = pd.get_dummies(df['sex'], prefix = 'sex')\n"
   ]
  },
  {
   "cell_type": "code",
   "execution_count": 19,
   "metadata": {},
   "outputs": [
    {
     "name": "stdout",
     "output_type": "stream",
     "text": [
      "(27504, 9)\n",
      "(27504, 35)\n"
     ]
    },
    {
     "data": {
      "text/html": [
       "<div>\n",
       "<style scoped>\n",
       "    .dataframe tbody tr th:only-of-type {\n",
       "        vertical-align: middle;\n",
       "    }\n",
       "\n",
       "    .dataframe tbody tr th {\n",
       "        vertical-align: top;\n",
       "    }\n",
       "\n",
       "    .dataframe thead th {\n",
       "        text-align: right;\n",
       "    }\n",
       "</style>\n",
       "<table border=\"1\" class=\"dataframe\">\n",
       "  <thead>\n",
       "    <tr style=\"text-align: right;\">\n",
       "      <th></th>\n",
       "      <th>age</th>\n",
       "      <th>hours-per-week</th>\n",
       "      <th>income_binary</th>\n",
       "      <th>education-num-win</th>\n",
       "      <th>workclass_Federal-gov</th>\n",
       "      <th>workclass_Local-gov</th>\n",
       "      <th>workclass_Private</th>\n",
       "      <th>workclass_Self-emp-inc</th>\n",
       "      <th>workclass_Self-emp-not-inc</th>\n",
       "      <th>workclass_State-gov</th>\n",
       "      <th>...</th>\n",
       "      <th>occupation_Sales</th>\n",
       "      <th>occupation_Tech-support</th>\n",
       "      <th>occupation_Transport-moving</th>\n",
       "      <th>race_Amer-Indian-Inuit</th>\n",
       "      <th>race_Asian-Pac-Islander</th>\n",
       "      <th>race_Black</th>\n",
       "      <th>race_Other</th>\n",
       "      <th>race_White</th>\n",
       "      <th>sex_Female</th>\n",
       "      <th>sex_Non-Female</th>\n",
       "    </tr>\n",
       "  </thead>\n",
       "  <tbody>\n",
       "    <tr>\n",
       "      <th>0</th>\n",
       "      <td>39.0</td>\n",
       "      <td>40.0</td>\n",
       "      <td>&lt;=50K</td>\n",
       "      <td>13</td>\n",
       "      <td>0</td>\n",
       "      <td>0</td>\n",
       "      <td>0</td>\n",
       "      <td>0</td>\n",
       "      <td>0</td>\n",
       "      <td>1</td>\n",
       "      <td>...</td>\n",
       "      <td>0</td>\n",
       "      <td>0</td>\n",
       "      <td>0</td>\n",
       "      <td>0</td>\n",
       "      <td>0</td>\n",
       "      <td>0</td>\n",
       "      <td>0</td>\n",
       "      <td>1</td>\n",
       "      <td>0</td>\n",
       "      <td>1</td>\n",
       "    </tr>\n",
       "    <tr>\n",
       "      <th>1</th>\n",
       "      <td>50.0</td>\n",
       "      <td>13.0</td>\n",
       "      <td>&lt;=50K</td>\n",
       "      <td>13</td>\n",
       "      <td>0</td>\n",
       "      <td>0</td>\n",
       "      <td>0</td>\n",
       "      <td>0</td>\n",
       "      <td>1</td>\n",
       "      <td>0</td>\n",
       "      <td>...</td>\n",
       "      <td>0</td>\n",
       "      <td>0</td>\n",
       "      <td>0</td>\n",
       "      <td>0</td>\n",
       "      <td>0</td>\n",
       "      <td>0</td>\n",
       "      <td>0</td>\n",
       "      <td>1</td>\n",
       "      <td>0</td>\n",
       "      <td>1</td>\n",
       "    </tr>\n",
       "    <tr>\n",
       "      <th>2</th>\n",
       "      <td>38.0</td>\n",
       "      <td>40.0</td>\n",
       "      <td>&lt;=50K</td>\n",
       "      <td>9</td>\n",
       "      <td>0</td>\n",
       "      <td>0</td>\n",
       "      <td>1</td>\n",
       "      <td>0</td>\n",
       "      <td>0</td>\n",
       "      <td>0</td>\n",
       "      <td>...</td>\n",
       "      <td>0</td>\n",
       "      <td>0</td>\n",
       "      <td>0</td>\n",
       "      <td>0</td>\n",
       "      <td>0</td>\n",
       "      <td>0</td>\n",
       "      <td>0</td>\n",
       "      <td>1</td>\n",
       "      <td>0</td>\n",
       "      <td>1</td>\n",
       "    </tr>\n",
       "    <tr>\n",
       "      <th>3</th>\n",
       "      <td>53.0</td>\n",
       "      <td>40.0</td>\n",
       "      <td>&lt;=50K</td>\n",
       "      <td>7</td>\n",
       "      <td>0</td>\n",
       "      <td>0</td>\n",
       "      <td>1</td>\n",
       "      <td>0</td>\n",
       "      <td>0</td>\n",
       "      <td>0</td>\n",
       "      <td>...</td>\n",
       "      <td>0</td>\n",
       "      <td>0</td>\n",
       "      <td>0</td>\n",
       "      <td>0</td>\n",
       "      <td>0</td>\n",
       "      <td>1</td>\n",
       "      <td>0</td>\n",
       "      <td>0</td>\n",
       "      <td>0</td>\n",
       "      <td>1</td>\n",
       "    </tr>\n",
       "    <tr>\n",
       "      <th>5</th>\n",
       "      <td>37.0</td>\n",
       "      <td>40.0</td>\n",
       "      <td>&lt;=50K</td>\n",
       "      <td>14</td>\n",
       "      <td>0</td>\n",
       "      <td>0</td>\n",
       "      <td>1</td>\n",
       "      <td>0</td>\n",
       "      <td>0</td>\n",
       "      <td>0</td>\n",
       "      <td>...</td>\n",
       "      <td>0</td>\n",
       "      <td>0</td>\n",
       "      <td>0</td>\n",
       "      <td>0</td>\n",
       "      <td>0</td>\n",
       "      <td>0</td>\n",
       "      <td>0</td>\n",
       "      <td>1</td>\n",
       "      <td>1</td>\n",
       "      <td>0</td>\n",
       "    </tr>\n",
       "    <tr>\n",
       "      <th>7</th>\n",
       "      <td>52.0</td>\n",
       "      <td>45.0</td>\n",
       "      <td>&gt;50K</td>\n",
       "      <td>9</td>\n",
       "      <td>0</td>\n",
       "      <td>0</td>\n",
       "      <td>0</td>\n",
       "      <td>0</td>\n",
       "      <td>1</td>\n",
       "      <td>0</td>\n",
       "      <td>...</td>\n",
       "      <td>0</td>\n",
       "      <td>0</td>\n",
       "      <td>0</td>\n",
       "      <td>0</td>\n",
       "      <td>0</td>\n",
       "      <td>0</td>\n",
       "      <td>0</td>\n",
       "      <td>1</td>\n",
       "      <td>0</td>\n",
       "      <td>1</td>\n",
       "    </tr>\n",
       "    <tr>\n",
       "      <th>8</th>\n",
       "      <td>31.0</td>\n",
       "      <td>50.0</td>\n",
       "      <td>&gt;50K</td>\n",
       "      <td>14</td>\n",
       "      <td>0</td>\n",
       "      <td>0</td>\n",
       "      <td>1</td>\n",
       "      <td>0</td>\n",
       "      <td>0</td>\n",
       "      <td>0</td>\n",
       "      <td>...</td>\n",
       "      <td>0</td>\n",
       "      <td>0</td>\n",
       "      <td>0</td>\n",
       "      <td>0</td>\n",
       "      <td>0</td>\n",
       "      <td>0</td>\n",
       "      <td>0</td>\n",
       "      <td>1</td>\n",
       "      <td>1</td>\n",
       "      <td>0</td>\n",
       "    </tr>\n",
       "    <tr>\n",
       "      <th>9</th>\n",
       "      <td>42.0</td>\n",
       "      <td>40.0</td>\n",
       "      <td>&gt;50K</td>\n",
       "      <td>13</td>\n",
       "      <td>0</td>\n",
       "      <td>0</td>\n",
       "      <td>1</td>\n",
       "      <td>0</td>\n",
       "      <td>0</td>\n",
       "      <td>0</td>\n",
       "      <td>...</td>\n",
       "      <td>0</td>\n",
       "      <td>0</td>\n",
       "      <td>0</td>\n",
       "      <td>0</td>\n",
       "      <td>0</td>\n",
       "      <td>0</td>\n",
       "      <td>0</td>\n",
       "      <td>1</td>\n",
       "      <td>0</td>\n",
       "      <td>1</td>\n",
       "    </tr>\n",
       "    <tr>\n",
       "      <th>10</th>\n",
       "      <td>37.0</td>\n",
       "      <td>80.0</td>\n",
       "      <td>&gt;50K</td>\n",
       "      <td>10</td>\n",
       "      <td>0</td>\n",
       "      <td>0</td>\n",
       "      <td>1</td>\n",
       "      <td>0</td>\n",
       "      <td>0</td>\n",
       "      <td>0</td>\n",
       "      <td>...</td>\n",
       "      <td>0</td>\n",
       "      <td>0</td>\n",
       "      <td>0</td>\n",
       "      <td>0</td>\n",
       "      <td>0</td>\n",
       "      <td>1</td>\n",
       "      <td>0</td>\n",
       "      <td>0</td>\n",
       "      <td>0</td>\n",
       "      <td>1</td>\n",
       "    </tr>\n",
       "    <tr>\n",
       "      <th>12</th>\n",
       "      <td>23.0</td>\n",
       "      <td>30.0</td>\n",
       "      <td>&lt;=50K</td>\n",
       "      <td>13</td>\n",
       "      <td>0</td>\n",
       "      <td>0</td>\n",
       "      <td>1</td>\n",
       "      <td>0</td>\n",
       "      <td>0</td>\n",
       "      <td>0</td>\n",
       "      <td>...</td>\n",
       "      <td>0</td>\n",
       "      <td>0</td>\n",
       "      <td>0</td>\n",
       "      <td>0</td>\n",
       "      <td>0</td>\n",
       "      <td>0</td>\n",
       "      <td>0</td>\n",
       "      <td>1</td>\n",
       "      <td>1</td>\n",
       "      <td>0</td>\n",
       "    </tr>\n",
       "  </tbody>\n",
       "</table>\n",
       "<p>10 rows × 39 columns</p>\n",
       "</div>"
      ],
      "text/plain": [
       "     age  hours-per-week income_binary  education-num-win  \\\n",
       "0   39.0            40.0         <=50K                 13   \n",
       "1   50.0            13.0         <=50K                 13   \n",
       "2   38.0            40.0         <=50K                  9   \n",
       "3   53.0            40.0         <=50K                  7   \n",
       "5   37.0            40.0         <=50K                 14   \n",
       "7   52.0            45.0          >50K                  9   \n",
       "8   31.0            50.0          >50K                 14   \n",
       "9   42.0            40.0          >50K                 13   \n",
       "10  37.0            80.0          >50K                 10   \n",
       "12  23.0            30.0         <=50K                 13   \n",
       "\n",
       "    workclass_Federal-gov  workclass_Local-gov  workclass_Private  \\\n",
       "0                       0                    0                  0   \n",
       "1                       0                    0                  0   \n",
       "2                       0                    0                  1   \n",
       "3                       0                    0                  1   \n",
       "5                       0                    0                  1   \n",
       "7                       0                    0                  0   \n",
       "8                       0                    0                  1   \n",
       "9                       0                    0                  1   \n",
       "10                      0                    0                  1   \n",
       "12                      0                    0                  1   \n",
       "\n",
       "    workclass_Self-emp-inc  workclass_Self-emp-not-inc  workclass_State-gov  \\\n",
       "0                        0                           0                    1   \n",
       "1                        0                           1                    0   \n",
       "2                        0                           0                    0   \n",
       "3                        0                           0                    0   \n",
       "5                        0                           0                    0   \n",
       "7                        0                           1                    0   \n",
       "8                        0                           0                    0   \n",
       "9                        0                           0                    0   \n",
       "10                       0                           0                    0   \n",
       "12                       0                           0                    0   \n",
       "\n",
       "    ...  occupation_Sales  occupation_Tech-support  \\\n",
       "0   ...                 0                        0   \n",
       "1   ...                 0                        0   \n",
       "2   ...                 0                        0   \n",
       "3   ...                 0                        0   \n",
       "5   ...                 0                        0   \n",
       "7   ...                 0                        0   \n",
       "8   ...                 0                        0   \n",
       "9   ...                 0                        0   \n",
       "10  ...                 0                        0   \n",
       "12  ...                 0                        0   \n",
       "\n",
       "    occupation_Transport-moving  race_Amer-Indian-Inuit  \\\n",
       "0                             0                       0   \n",
       "1                             0                       0   \n",
       "2                             0                       0   \n",
       "3                             0                       0   \n",
       "5                             0                       0   \n",
       "7                             0                       0   \n",
       "8                             0                       0   \n",
       "9                             0                       0   \n",
       "10                            0                       0   \n",
       "12                            0                       0   \n",
       "\n",
       "    race_Asian-Pac-Islander  race_Black  race_Other  race_White  sex_Female  \\\n",
       "0                         0           0           0           1           0   \n",
       "1                         0           0           0           1           0   \n",
       "2                         0           0           0           1           0   \n",
       "3                         0           1           0           0           0   \n",
       "5                         0           0           0           1           1   \n",
       "7                         0           0           0           1           0   \n",
       "8                         0           0           0           1           1   \n",
       "9                         0           0           0           1           0   \n",
       "10                        0           1           0           0           0   \n",
       "12                        0           0           0           1           1   \n",
       "\n",
       "    sex_Non-Female  \n",
       "0                1  \n",
       "1                1  \n",
       "2                1  \n",
       "3                1  \n",
       "5                0  \n",
       "7                1  \n",
       "8                0  \n",
       "9                1  \n",
       "10               1  \n",
       "12               0  \n",
       "\n",
       "[10 rows x 39 columns]"
      ]
     },
     "execution_count": 19,
     "metadata": {},
     "output_type": "execute_result"
    }
   ],
   "source": [
    "# join new encoded dataframes and drop old columns\n",
    "df_encoded = pd.concat([df_workclass, df_marital_status, df_occupation, df_race, df_sex], axis=1)\n",
    "\n",
    "df_encoded\n",
    "print(df.shape)\n",
    "print(df_encoded.shape)\n",
    "df = pd.concat([df, df_encoded], axis=1)\n",
    "df.shape\n",
    "df = df.drop(columns=['workclass', 'marital-status', 'occupation', 'race', 'sex'])\n",
    "df.head(10)"
   ]
  },
  {
   "cell_type": "markdown",
   "metadata": {},
   "source": [
    "## Part 4: Define Your Project Plan\n",
    "\n",
    "Now that you understand your data, in the markdown cell below, define your plan to implement the remaining phases of the machine learning life cycle (data preparation, modeling, evaluation) to solve your ML problem. Answer the following questions:\n",
    "\n",
    "* Do you have a new feature list? If so, what are the features that you chose to keep and remove after inspecting the data? \n",
    "* Explain different data preparation techniques that you will use to prepare your data for modeling.\n",
    "* What is your model (or models)?\n",
    "* Describe your plan to train your model, analyze its performance and then improve the model. That is, describe your model building, validation and selection plan to produce a model that generalizes well to new data. "
   ]
  },
  {
   "cell_type": "markdown",
   "metadata": {},
   "source": [
    "The new feature list includes age, workclass, marital status, occupation, race, sex, hours per week, and education num. Features that were removed included fnlwgt, capital-loss, education, capital-gain, relationship. Certain features were removed based on intuitive reasoning that they were not significant in relation to the label, the income level (fnlwgt, the amount of people the entry represented, capital-loss, capital-gain. Relationship was excluded because it was very similar to marital status and sex. Education and occupation were removed because they were categorical data, and had many categories which would've made it difficult to one-hot encode. It was also redundant to include the feature when education-num had essentially the same information but in numerical form.\n",
    "\n",
    "Data preparation techniques included removing irrelevant features, renaming the feature 'sex-self-ID' to 'sex,' inspecting the data for distribution, averages, and outliers, trying out different outlier detection methods, replacing null values with the average, and winsorizing outliers. The project only focuses on US entries, as the majority was in the US with few in the multitude of other countries. \n",
    "\n",
    "The model being used is the Decision Tree model due to its handling of feature interaction, and is more intuitive. Since many factors may go into one's income and the data included a total of 38 features, I wanted to investigate which features were most important, and see whether the model would be able to accurately predict on testing data even with many features. I also chose to use decision trees over other models such as logistic regression, as they are non-parametric and don't assume a linear relationship, and also can handle multiple features without having to scale. \n",
    "\n",
    "I will be analyzing feature importance through graph visualizations, and using that information to modify the training data as needed. A grid search will be performed to go through various combinatons of the hyperparameters 'max depth' and 'min samples leaf' using cross validation, and the accuracy scores will be graphed while fine tuning the model. "
   ]
  },
  {
   "cell_type": "markdown",
   "metadata": {},
   "source": [
    "## Part 5: Implement Your Project Plan\n",
    "\n",
    "<b>Task:</b> In the code cell below, import additional packages that you have used in this course that you will need to implement your project plan."
   ]
  },
  {
   "cell_type": "code",
   "execution_count": 50,
   "metadata": {},
   "outputs": [
    {
     "name": "stdout",
     "output_type": "stream",
     "text": [
      "27504\n",
      "27504\n"
     ]
    }
   ],
   "source": [
    "# Create labeled examples from the data set\n",
    "X = df.drop(columns = 'income_binary')\n",
    "y = df['income_binary']\n",
    "\n",
    "\n",
    "# See if there's class imbalances \n",
    "print(len(y == '<=50K'))\n",
    "print(len(y == '>=50K'))\n",
    "\n",
    "# Split the data into training and test data sets\n",
    "X_train, X_test, y_train, y_test = train_test_split(X, y, test_size = 0.33, random_state = 123)"
   ]
  },
  {
   "cell_type": "code",
   "execution_count": 51,
   "metadata": {},
   "outputs": [
    {
     "name": "stdout",
     "output_type": "stream",
     "text": [
      "(18427, 38)\n",
      "(9077, 38)\n",
      "(18427,)\n",
      "(9077,)\n"
     ]
    }
   ],
   "source": [
    "# Verify the shapes of training and test sets \n",
    "print(X_train.shape)\n",
    "print(X_test.shape)\n",
    "\n",
    "print(y_train.shape)\n",
    "print(y_test.shape)"
   ]
  },
  {
   "cell_type": "code",
   "execution_count": 59,
   "metadata": {},
   "outputs": [
    {
     "name": "stdout",
     "output_type": "stream",
     "text": [
      "accuracy with all features: 0.8273658697807645\n"
     ]
    }
   ],
   "source": [
    "# Create DT model \n",
    "md = 20\n",
    "msl = 100\n",
    "model = DecisionTreeClassifier(min_samples_leaf = msl, max_depth = md, criterion = 'entropy')\n",
    "\n",
    "# Fit the model to the training data below\n",
    "model.fit(X_train, y_train)\n",
    "\n",
    "# Look at predictions \n",
    "class_label_predictions = model.predict(X_test)\n",
    "\n",
    "# Compute the accuracy score\n",
    "accuracy = accuracy_score(y_test, class_label_predictions)\n",
    "print(\"accuracy with all features: \" + str(accuracy))"
   ]
  },
  {
   "cell_type": "code",
   "execution_count": 53,
   "metadata": {},
   "outputs": [
    {
     "data": {
      "text/plain": [
       "Text(0, 0.5, 'Normalized importance')"
      ]
     },
     "execution_count": 53,
     "metadata": {},
     "output_type": "execute_result"
    },
    {
     "data": {
      "image/png": "[encoded data removed]",
      "text/plain": [
       "<Figure size 640x480 with 1 Axes>"
      ]
     },
     "metadata": {},
     "output_type": "display_data"
    }
   ],
   "source": [
    "# Repeat this but only for the most significant features \n",
    "\n",
    "# Inspect most important features \n",
    "fi = model.feature_importances_\n",
    "fi[:5]\n",
    "\n",
    "names_sorted = [x for _,x in sorted(zip(fi, X_train.columns.values), reverse = True)]\n",
    "fig, ax = plt.subplots()\n",
    "\n",
    "ax.bar(np.arange(10), sorted(model.feature_importances_, reverse=True)[:10], width = 0.35)\n",
    "ax.set_xticks(np.arange(10))\n",
    "ax.set_xticklabels(names_sorted[:10], rotation = 90)\n",
    "plt.title('Feature importance from DT')\n",
    "ax.set_ylabel('Normalized importance')\n"
   ]
  },
  {
   "cell_type": "code",
   "execution_count": 56,
   "metadata": {},
   "outputs": [
    {
     "name": "stdout",
     "output_type": "stream",
     "text": [
      "accuracy with 4 features: 0.8200947449597885\n"
     ]
    }
   ],
   "source": [
    "# Create DT model for only 4 most significant features \n",
    "\n",
    "# Find top 4 features and modify training and testing sets \n",
    "top4_features = names_sorted[:4]\n",
    "X_train_top4 = X_train[top4_features]\n",
    "X_test_top4 = X_test[top4_features]\n",
    "\n",
    "md = 16\n",
    "msl = 50\n",
    "model = model = DecisionTreeClassifier(min_samples_leaf = msl, max_depth = md, criterion = 'entropy')\n",
    "\n",
    "# Fit the model to the training data below\n",
    "model.fit(X_train_top4, y_train)\n",
    "\n",
    "# Look at predictions \n",
    "class_label_predictions_4features = model.predict(X_test_top4)\n",
    "\n",
    "# Compute the accuracy score\n",
    "accuracy_4_features = accuracy_score(y_test, class_label_predictions_4features)\n",
    "print(\"accuracy with 4 features: \" + str(accuracy_4_features))"
   ]
  },
  {
   "cell_type": "code",
   "execution_count": 57,
   "metadata": {},
   "outputs": [
    {
     "name": "stdout",
     "output_type": "stream",
     "text": [
      "accuracy with 1 features: 0.7458411369395175\n",
      "accuracy with 2 features: 0.810840586096728\n",
      "accuracy with 3 features: 0.8171201938966619\n",
      "accuracy with 4 features: 0.8176710366861297\n",
      "accuracy with 5 features: 0.8245014872755315\n",
      "accuracy with 6 features: 0.8276963754544453\n",
      "accuracy with 7 features: 0.8276963754544453\n",
      "accuracy with 8 features: 0.8276963754544453\n",
      "accuracy with 9 features: 0.8270353641070839\n",
      "accuracy with 10 features: 0.8270353641070839\n",
      "accuracy with 11 features: 0.8270353641070839\n",
      "accuracy with 12 features: 0.8270353641070839\n",
      "accuracy with 13 features: 0.8273658697807645\n",
      "accuracy with 14 features: 0.8273658697807645\n",
      "accuracy with 15 features: 0.8273658697807645\n",
      "accuracy with 16 features: 0.8273658697807645\n",
      "accuracy with 17 features: 0.8273658697807645\n",
      "accuracy with 18 features: 0.8273658697807645\n",
      "accuracy with 19 features: 0.8273658697807645\n",
      "accuracy with 20 features: 0.8273658697807645\n",
      "accuracy with 21 features: 0.8273658697807645\n",
      "accuracy with 22 features: 0.8273658697807645\n",
      "accuracy with 23 features: 0.8273658697807645\n",
      "accuracy with 24 features: 0.8273658697807645\n",
      "accuracy with 25 features: 0.8273658697807645\n",
      "accuracy with 26 features: 0.8273658697807645\n",
      "accuracy with 27 features: 0.8273658697807645\n",
      "accuracy with 28 features: 0.8273658697807645\n",
      "accuracy with 29 features: 0.8273658697807645\n",
      "accuracy with 30 features: 0.8273658697807645\n",
      "accuracy with 31 features: 0.8273658697807645\n",
      "accuracy with 32 features: 0.8273658697807645\n",
      "accuracy with 33 features: 0.8273658697807645\n",
      "accuracy with 34 features: 0.8273658697807645\n",
      "accuracy with 35 features: 0.8273658697807645\n",
      "accuracy with 36 features: 0.8273658697807645\n",
      "accuracy with 37 features: 0.8273658697807645\n",
      "accuracy with 38 features: 0.8273658697807645\n",
      "accuracy with 39 features: 0.8273658697807645\n"
     ]
    },
    {
     "data": {
      "image/png": "[encoded data removed]",
      "text/plain": [
       "<Figure size 1000x600 with 1 Axes>"
      ]
     },
     "metadata": {},
     "output_type": "display_data"
    }
   ],
   "source": [
    "# Loop through different numbers of top amount of features and graph accuracies\n",
    "accuracy_scores = []\n",
    "\n",
    "for i in range(1,40):\n",
    "    top_features = names_sorted[:i]\n",
    "    X_train_top_features = X_train[top_features]\n",
    "    X_test_top_features = X_test[top_features]\n",
    "\n",
    "    md = 20\n",
    "    msl = 100\n",
    "    model = DecisionTreeClassifier(min_samples_leaf = msl, max_depth = md, criterion = 'entropy')\n",
    "\n",
    "    # Fit the model to the training data below\n",
    "    model.fit(X_train_top_features, y_train)\n",
    "\n",
    "    # Look at predictions \n",
    "    class_label_predictions = model.predict(X_test_top_features)\n",
    "\n",
    "    # Compute the accuracy score\n",
    "    accuracy = accuracy_score(y_test, class_label_predictions)\n",
    "    accuracy_scores.append(accuracy)\n",
    "    \n",
    "    print(\"accuracy with \" + str(i) + \" features: \" + str(accuracy))\n",
    "\n",
    "\n",
    "plt.figure(figsize=(10, 6))\n",
    "plt.plot(range(1, 40), accuracy_scores, marker='o')\n",
    "plt.xlabel('Number of Features')\n",
    "plt.ylabel('Accuracy Score')\n",
    "plt.title('Accuracy Score vs. Number of Top Features')\n",
    "plt.grid(True)\n",
    "plt.show()\n"
   ]
  },
  {
   "cell_type": "markdown",
   "metadata": {},
   "source": [
    "<b>Task:</b> Use the rest of this notebook to carry out your project plan. \n",
    "\n",
    "You will:\n",
    "\n",
    "1. Prepare your data for your model.\n",
    "2. Fit your model to the training data and evaluate your model.\n",
    "3. Improve your model's performance by performing model selection and/or feature selection techniques to find best model for your problem.\n",
    "\n",
    "Add code cells below and populate the notebook with commentary, code, analyses, results, and figures as you see fit. "
   ]
  },
  {
   "cell_type": "code",
   "execution_count": 22,
   "metadata": {},
   "outputs": [
    {
     "name": "stdout",
     "output_type": "stream",
     "text": [
      "Done running grid search\n",
      "Optimal hyperparameters: {'max_depth': 16, 'min_samples_leaf': 50}\n",
      "Best accuracy: 0.8222171729648129\n"
     ]
    }
   ],
   "source": [
    "# Scan through hyperparameters to find the best ones\n",
    "\n",
    "hyperparams_depth = [4, 8, 12, 16, 20]\n",
    "hyperparams_leaf = [25, 50, 75, 100, 125]\n",
    "\n",
    "param_grid = {'max_depth': hyperparams_depth, 'min_samples_leaf': hyperparams_leaf}\n",
    "param_grid\n",
    "\n",
    "model = DecisionTreeClassifier(criterion = 'entropy')\n",
    "grid = GridSearchCV(model, param_grid, cv = 4)\n",
    "grid_search = grid.fit(X_train, y_train)\n",
    "print('Done running grid search')\n",
    "\n",
    "print('Optimal hyperparameters: {0}'.format(grid_search.best_params_))\n",
    "print('Best accuracy: {0}'.format(grid_search.best_score_))"
   ]
  },
  {
   "cell_type": "code",
   "execution_count": 61,
   "metadata": {},
   "outputs": [
    {
     "name": "stdout",
     "output_type": "stream",
     "text": [
      "accuracy with all features: 0.8296794094965297\n"
     ]
    }
   ],
   "source": [
    "# Rerun DT with best parameters\n",
    "\n",
    "# Create DT model \n",
    "md = 16\n",
    "msl = 50\n",
    "model = DecisionTreeClassifier(min_samples_leaf = msl, max_depth = md, criterion = 'entropy')\n",
    "\n",
    "# Fit the model to the training data below\n",
    "model.fit(X_train, y_train)\n",
    "\n",
    "# Look at predictions \n",
    "class_label_predictions = model.predict(X_test)\n",
    "\n",
    "# Compute the accuracy score\n",
    "accuracy = accuracy_score(y_test, class_label_predictions)\n",
    "print(\"accuracy with all features: \" + str(accuracy))"
   ]
  },
  {
   "cell_type": "markdown",
   "metadata": {},
   "source": [
    "It appears that the model underfits the data with less than 6 of the most important features. However, the model accuracy peaked at 6 features and beyond, so using anything more than 6 features yielded essentially the same accuracy score with just 6. \n",
    "\n",
    "After doing a parameter grid search on the 'min samples leaf' and 'max depth' hyperparameters on a cross fold validation number of 4, the best hyperparameter values were 16 for max depth and 50 for min samples leaf. This yielded a slightly higher accuracy than the max accuracy (0.827--> 0.829 accuracy value). "
   ]
  }
 ],
 "metadata": {
  "kernelspec": {
   "display_name": "Python 3 (ipykernel)",
   "language": "python",
   "name": "python3"
  },
  "language_info": {
   "codemirror_mode": {
    "name": "ipython",
    "version": 3
   },
   "file_extension": ".py",
   "mimetype": "text/x-python",
   "name": "python",
   "nbconvert_exporter": "python",
   "pygments_lexer": "ipython3",
   "version": "3.9.19"
  },
  "toc": {
   "base_numbering": 1,
   "nav_menu": {},
   "number_sections": false,
   "sideBar": true,
   "skip_h1_title": false,
   "title_cell": "Table of Contents",
   "title_sidebar": "Contents",
   "toc_cell": false,
   "toc_position": {},
   "toc_section_display": true,
   "toc_window_display": false
  },
  "varInspector": {
   "cols": {
    "lenName": 16,
    "lenType": 16,
    "lenVar": 40
   },
   "kernels_config": {
    "python": {
     "delete_cmd_postfix": "",
     "delete_cmd_prefix": "del ",
     "library": "var_list.py",
     "varRefreshCmd": "print(var_dic_list())"
    },
    "r": {
     "delete_cmd_postfix": ") ",
     "delete_cmd_prefix": "rm(",
     "library": "var_list.r",
     "varRefreshCmd": "cat(var_dic_list()) "
    }
   },
   "types_to_exclude": [
    "module",
    "function",
    "builtin_function_or_method",
    "instance",
    "_Feature"
   ],
   "window_display": false
  }
 },
 "nbformat": 4,
 "nbformat_minor": 4
}
